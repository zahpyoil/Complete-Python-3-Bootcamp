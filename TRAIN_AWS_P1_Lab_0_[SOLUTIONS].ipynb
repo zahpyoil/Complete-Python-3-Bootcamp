{
  "nbformat": 4,
  "nbformat_minor": 0,
  "metadata": {
    "colab": {
      "provenance": [],
      "include_colab_link": true
    },
    "kernelspec": {
      "name": "python3",
      "display_name": "Python 3"
    },
    "language_info": {
      "name": "python"
    }
  },
  "cells": [
    {
      "cell_type": "markdown",
      "metadata": {
        "id": "view-in-github",
        "colab_type": "text"
      },
      "source": [
        "<a href=\"https://colab.research.google.com/github/zahpyoil/Complete-Python-3-Bootcamp/blob/master/TRAIN_AWS_P1_Lab_0_%5BSOLUTIONS%5D.ipynb\" target=\"_parent\"><img src=\"https://colab.research.google.com/assets/colab-badge.svg\" alt=\"Open In Colab\"/></a>"
      ]
    },
    {
      "cell_type": "markdown",
      "source": [
        "# **Lab 0: Introduction to Python and Google Colab**\n",
        "---\n",
        "\n",
        "Now that you have a [basic](https://docs.google.com/document/d/1eY8fYNByjdxW4pGMtRwOfaSOudFu9cMQn86uE1gAk1c/edit#) understanding of Python programming, let's apply these concepts to some lab work.\n"
      ],
      "metadata": {
        "id": "DsrKrYAFAwvC"
      }
    },
    {
      "cell_type": "markdown",
      "source": [
        "## **Part 1: The print function, Variables, and Arithmetic**\n",
        "---"
      ],
      "metadata": {
        "id": "VmfQ66LhVXIQ"
      }
    },
    {
      "cell_type": "markdown",
      "source": [
        "#### **Exercise #1:** Print out the phrase \"Hello, my name is ___\" with your name."
      ],
      "metadata": {
        "id": "mfMteYS3to5n"
      }
    },
    {
      "cell_type": "code",
      "source": [],
      "metadata": {
        "id": "DYqxOTOot0xX"
      },
      "execution_count": null,
      "outputs": []
    },
    {
      "cell_type": "markdown",
      "source": [
        "##### **Solution:**"
      ],
      "metadata": {
        "id": "PaQH5OD6t1E5"
      }
    },
    {
      "cell_type": "code",
      "source": [
        "print(\"Hello, my name is Adam\")"
      ],
      "metadata": {
        "id": "JF1yupARt3WB"
      },
      "execution_count": null,
      "outputs": []
    },
    {
      "cell_type": "markdown",
      "source": [
        "#### **Exercise #2:** Print out the result of adding 2 + 3.0."
      ],
      "metadata": {
        "id": "PmwF-E2OVn3c"
      }
    },
    {
      "cell_type": "code",
      "source": [],
      "metadata": {
        "id": "GBqF-Vt5Vn3d"
      },
      "execution_count": null,
      "outputs": []
    },
    {
      "cell_type": "markdown",
      "source": [
        "##### **Solution:**"
      ],
      "metadata": {
        "id": "1OsjDEinVn3e"
      }
    },
    {
      "cell_type": "code",
      "source": [
        "print(2 + 3.0)"
      ],
      "metadata": {
        "id": "Ar6AvN1kVn3e"
      },
      "execution_count": null,
      "outputs": []
    },
    {
      "cell_type": "markdown",
      "source": [
        "#### **Exercise #3:** Make a variable called `favorite_animal` and store the name of your favorite animal in it. Then print it out."
      ],
      "metadata": {
        "id": "6MqreT3HVoFf"
      }
    },
    {
      "cell_type": "code",
      "source": [],
      "metadata": {
        "id": "9Ty6lidkVoFg"
      },
      "execution_count": null,
      "outputs": []
    },
    {
      "cell_type": "markdown",
      "source": [
        "##### **Solution:**"
      ],
      "metadata": {
        "id": "c-FxfJtEVoFg"
      }
    },
    {
      "cell_type": "code",
      "source": [
        "favorite_animal = \"octopus\"\n",
        "print(favorite_animal)"
      ],
      "metadata": {
        "id": "lcvBQS4ZVoFg"
      },
      "execution_count": null,
      "outputs": []
    },
    {
      "cell_type": "markdown",
      "source": [
        "#### **Exercise #4:** Complete the code below so that it calculates and prints your age in days."
      ],
      "metadata": {
        "id": "74o-C_juVo0R"
      }
    },
    {
      "cell_type": "code",
      "source": [
        "my_age = #add age in years here\n",
        "days_in_year = 365\n",
        "\n",
        "age_in_days = #add calculation here\n",
        "print(age_in_days)"
      ],
      "metadata": {
        "id": "aM_VtiHPVo0S"
      },
      "execution_count": null,
      "outputs": []
    },
    {
      "cell_type": "markdown",
      "source": [
        "##### **Solution:**"
      ],
      "metadata": {
        "id": "1jKdraroVo0S"
      }
    },
    {
      "cell_type": "code",
      "source": [
        "my_age = 27\n",
        "days_in_year = 365\n",
        "\n",
        "age_in_days = my_age * days_in_year\n",
        "print(age_in_days)"
      ],
      "metadata": {
        "id": "QE79CzPqVo0S"
      },
      "execution_count": null,
      "outputs": []
    },
    {
      "cell_type": "markdown",
      "source": [
        "#### **Exercise #5:** Complete the code below so that it calculates and prints the sentence \"I am [age_in_decades] decades old\""
      ],
      "metadata": {
        "id": "0815zm1YVo5K"
      }
    },
    {
      "cell_type": "code",
      "source": [
        "my_age = #add age in years here\n",
        "years_in_decade = # complete this line\n",
        "\n",
        "age_in_decades = my_age / years_in_decade\n",
        "print(\"I am \" + #complete this line)"
      ],
      "metadata": {
        "id": "vwLGsLuTVo5L"
      },
      "execution_count": null,
      "outputs": []
    },
    {
      "cell_type": "markdown",
      "source": [
        "##### **Solution:**"
      ],
      "metadata": {
        "id": "bq8WKBq3Vo5L"
      }
    },
    {
      "cell_type": "code",
      "source": [
        "my_age = 27\n",
        "years_in_decade = 10\n",
        "\n",
        "age_in_decades = my_age / years_in_decade\n",
        "print(\"I am \" + str(age_in_decades) + \" decades old\")"
      ],
      "metadata": {
        "id": "5iWQXZESVo5L"
      },
      "execution_count": null,
      "outputs": []
    },
    {
      "cell_type": "markdown",
      "source": [
        "## **Part 2: Comparisons**\n",
        "---"
      ],
      "metadata": {
        "id": "583FEGKfWa8n"
      }
    },
    {
      "cell_type": "markdown",
      "source": [
        "#### **Exercise #1:** Print the result of testing if 3 is greater than 5."
      ],
      "metadata": {
        "id": "yo-iaP81Wa8w"
      }
    },
    {
      "cell_type": "code",
      "source": [],
      "metadata": {
        "id": "p1Gb3hMPWa8x"
      },
      "execution_count": null,
      "outputs": []
    },
    {
      "cell_type": "markdown",
      "source": [
        "##### **Solution:**"
      ],
      "metadata": {
        "id": "_sFlbJrsWa8x"
      }
    },
    {
      "cell_type": "code",
      "source": [
        "print(3 > 5)"
      ],
      "metadata": {
        "id": "zxvY3L-3Wa8x"
      },
      "execution_count": null,
      "outputs": []
    },
    {
      "cell_type": "markdown",
      "source": [
        "#### **Exercise #2:** Change the values below to make the output True."
      ],
      "metadata": {
        "id": "3h-RLo3uWa8x"
      }
    },
    {
      "cell_type": "code",
      "source": [
        "print(14 != 14)"
      ],
      "metadata": {
        "id": "QP40_1HFWa8x"
      },
      "execution_count": null,
      "outputs": []
    },
    {
      "cell_type": "markdown",
      "source": [
        "##### **Solution:**"
      ],
      "metadata": {
        "id": "xYJT2wjiWa8x"
      }
    },
    {
      "cell_type": "code",
      "source": [
        "# many solutions to this one! here are two:\n",
        "print(14 == 14)\n",
        "print(14 != 15)"
      ],
      "metadata": {
        "id": "JhY9IkEkWa8x"
      },
      "execution_count": null,
      "outputs": []
    },
    {
      "cell_type": "markdown",
      "source": [
        "#### **Exercise #3:** Write code to test if the two variables are equal to each other and print the result."
      ],
      "metadata": {
        "id": "6QAnB9tlWa8y"
      }
    },
    {
      "cell_type": "code",
      "source": [
        "x = \"hi world\"\n",
        "y = \"hello world\"\n",
        "\n",
        "#add code here"
      ],
      "metadata": {
        "id": "Azo2-aKTWa8y"
      },
      "execution_count": null,
      "outputs": []
    },
    {
      "cell_type": "markdown",
      "source": [
        "##### **Solution:**"
      ],
      "metadata": {
        "id": "Vq38vdinWa8y"
      }
    },
    {
      "cell_type": "code",
      "source": [
        "x = \"hi world\"\n",
        "y = \"hello world\"\n",
        "\n",
        "print(x == y)"
      ],
      "metadata": {
        "id": "LKzi-bsyWa8y"
      },
      "execution_count": null,
      "outputs": []
    },
    {
      "cell_type": "markdown",
      "source": [
        "#### **Exercise #4:** Write code that tests if your baggage weight is less than the limit and prints the sentence, \"Your bag is under the limit: [result of comparison]\"."
      ],
      "metadata": {
        "id": "pzhQt4BRWa8y"
      }
    },
    {
      "cell_type": "code",
      "source": [
        "bag_weight = 12\n",
        "weight_limit = 12.5\n",
        "\n",
        "# add code here"
      ],
      "metadata": {
        "id": "r7J8kUg2Wa8y"
      },
      "execution_count": null,
      "outputs": []
    },
    {
      "cell_type": "markdown",
      "source": [
        "##### **Solution:**"
      ],
      "metadata": {
        "id": "pWawtDgpWa8y"
      }
    },
    {
      "cell_type": "code",
      "source": [
        "bag_weight = 12\n",
        "weight_limit = 12.5\n",
        "\n",
        "print(\"Your bag is under the limit: \" + str(bag_weight < weight_limit))"
      ],
      "metadata": {
        "id": "l8Qr10-uWa8y"
      },
      "execution_count": null,
      "outputs": []
    },
    {
      "cell_type": "markdown",
      "source": [
        "## **Part 3: Lists**\n",
        "---"
      ],
      "metadata": {
        "id": "5QsCBEiOWuha"
      }
    },
    {
      "cell_type": "markdown",
      "source": [
        "#### **Exercise #1:** Print the word \"Howdy!\" using the provided list."
      ],
      "metadata": {
        "id": "zVcrldoeWuhi"
      }
    },
    {
      "cell_type": "code",
      "source": [
        "phrases = [\"Hi\", \"Hello\", \"Howdy\", \"Hiya\"]"
      ],
      "metadata": {
        "id": "tGkmba-qWuhi"
      },
      "execution_count": null,
      "outputs": []
    },
    {
      "cell_type": "markdown",
      "source": [
        "##### **Solution:**"
      ],
      "metadata": {
        "id": "Xy3al0VJWuhi"
      }
    },
    {
      "cell_type": "code",
      "source": [
        "phrases = [\"Hi\", \"Hello\", \"Howdy\", \"Hiya\"]\n",
        "print(phrases[2])"
      ],
      "metadata": {
        "id": "rj76ImzOWuhi"
      },
      "execution_count": null,
      "outputs": []
    },
    {
      "cell_type": "markdown",
      "source": [
        "#### **Exercise #2:** Complete the code below so that the following is printed:\n",
        "1\n",
        "\n",
        "0\n",
        "\n",
        "2"
      ],
      "metadata": {
        "id": "2h2id0QoWuhi"
      }
    },
    {
      "cell_type": "code",
      "source": [
        "my_list = [0, 3, 1, 2]"
      ],
      "metadata": {
        "id": "TV6RzhiMWuhi"
      },
      "execution_count": null,
      "outputs": []
    },
    {
      "cell_type": "markdown",
      "source": [
        "##### **Solution:**"
      ],
      "metadata": {
        "id": "RxozzxQOWuhi"
      }
    },
    {
      "cell_type": "code",
      "source": [
        "my_list = [0, 3, 1, 2]\n",
        "print(my_list[2])\n",
        "print(my_list[0])\n",
        "print(my_list[3])"
      ],
      "metadata": {
        "id": "uXHD8aEcWuhi",
        "colab": {
          "base_uri": "https://localhost:8080/"
        },
        "outputId": "4c4ace68-5193-4298-f74b-f24df4588843"
      },
      "execution_count": null,
      "outputs": [
        {
          "output_type": "stream",
          "name": "stdout",
          "text": [
            "1\n",
            "0\n",
            "2\n"
          ]
        }
      ]
    },
    {
      "cell_type": "markdown",
      "source": [
        "#### **Exercise #3:** Add the element 2.8 to this list using append and print the updated list."
      ],
      "metadata": {
        "id": "Kvc2vgKNWuhi"
      }
    },
    {
      "cell_type": "code",
      "source": [
        "my_list = [1.4]"
      ],
      "metadata": {
        "id": "CF7S_uv_Wuhi"
      },
      "execution_count": null,
      "outputs": []
    },
    {
      "cell_type": "markdown",
      "source": [
        "##### **Solution:**"
      ],
      "metadata": {
        "id": "-hhd_YKiWuhj"
      }
    },
    {
      "cell_type": "code",
      "source": [
        "my_list = [1.4]\n",
        "my_list.append(2.8)\n",
        "print(my_list)"
      ],
      "metadata": {
        "id": "6QeW9Se5Wuhj"
      },
      "execution_count": null,
      "outputs": []
    },
    {
      "cell_type": "markdown",
      "source": [
        "#### **Exercise #4:** Now, add the element 4.2 to this list  twice using append and print the updated list."
      ],
      "metadata": {
        "id": "GWtQ_GIEW41G"
      }
    },
    {
      "cell_type": "code",
      "source": [],
      "metadata": {
        "id": "S6sHCKNOW41Q"
      },
      "execution_count": null,
      "outputs": []
    },
    {
      "cell_type": "markdown",
      "source": [
        "##### **Solution:**"
      ],
      "metadata": {
        "id": "ivBTGuD_W41R"
      }
    },
    {
      "cell_type": "code",
      "source": [
        "my_list = [1.4, 2.8]\n",
        "my_list.append(4.2)\n",
        "my_list.append(4.2)\n",
        "print(my_list)"
      ],
      "metadata": {
        "id": "ICzVWUR9W41R"
      },
      "execution_count": null,
      "outputs": []
    },
    {
      "cell_type": "markdown",
      "source": [
        "#### **Exercise #5:** Remove 1.4 from this list and print the updated list."
      ],
      "metadata": {
        "id": "O2tmrUMqW5__"
      }
    },
    {
      "cell_type": "code",
      "source": [],
      "metadata": {
        "id": "Qu-469HzW6AA"
      },
      "execution_count": null,
      "outputs": []
    },
    {
      "cell_type": "markdown",
      "source": [
        "##### **Solution:**"
      ],
      "metadata": {
        "id": "8d_gtH_XW6AA"
      }
    },
    {
      "cell_type": "code",
      "source": [
        "my_list = [1.4, 2.8, 4.2, 4.2]\n",
        "my_list.remove(1.4)\n",
        "print(my_list)"
      ],
      "metadata": {
        "id": "a8nHrShLW6AA"
      },
      "execution_count": null,
      "outputs": []
    },
    {
      "cell_type": "markdown",
      "source": [
        "#### **Exercise #6:** Change the 0th element to be the string \"floats\" and print the list."
      ],
      "metadata": {
        "id": "_5u3q9wcW7Yi"
      }
    },
    {
      "cell_type": "code",
      "source": [],
      "metadata": {
        "id": "stoGICD1W7Yj"
      },
      "execution_count": null,
      "outputs": []
    },
    {
      "cell_type": "markdown",
      "source": [
        "##### **Solution:**"
      ],
      "metadata": {
        "id": "g2qGcx68W7Yj"
      }
    },
    {
      "cell_type": "code",
      "source": [
        "my_list = [1.4, 2.8]\n",
        "my_list[0] = \"floats\"\n",
        "print(my_list)"
      ],
      "metadata": {
        "id": "npPp2iO-W7Yj",
        "colab": {
          "base_uri": "https://localhost:8080/"
        },
        "outputId": "1dfbc799-5825-4219-ab02-e1180a3adf2d"
      },
      "execution_count": null,
      "outputs": [
        {
          "output_type": "stream",
          "name": "stdout",
          "text": [
            "['floats', 2.8]\n"
          ]
        }
      ]
    },
    {
      "cell_type": "markdown",
      "source": [
        "## **Part 4: General Practice**\n",
        "---"
      ],
      "metadata": {
        "id": "ZmA9H58iXLj0"
      }
    },
    {
      "cell_type": "markdown",
      "source": [
        "#### **Exercise #1:** What value will be printed in the code below?\n",
        "\n",
        "```python\n",
        "num_keys = 2\n",
        "num_locks = 5\n",
        "\n",
        "has_enough_keys = num_keys >= num_locks\n",
        "print(\"I have enough keys: \" + str(has_enough_keys))\n",
        "\n",
        "```"
      ],
      "metadata": {
        "id": "dtKV2rFhZJo7"
      }
    },
    {
      "cell_type": "markdown",
      "source": [
        "###### **Solution:** It will print \"I have enough keys: False\" since `num_keys` is not `>=` `num_locks`."
      ],
      "metadata": {
        "id": "4TCPh8ecZJpF"
      }
    },
    {
      "cell_type": "markdown",
      "source": [
        "#### **Exercise #2:** Complete the code below so that the list contains only even numbers and print the updated list."
      ],
      "metadata": {
        "id": "hHAEeDsNaBNH"
      }
    },
    {
      "cell_type": "code",
      "source": [
        "evens = [1, 2, 3, 4]\n"
      ],
      "metadata": {
        "id": "b2Xpu9LDaRQm"
      },
      "execution_count": null,
      "outputs": []
    },
    {
      "cell_type": "markdown",
      "source": [
        "###### **Solution:**"
      ],
      "metadata": {
        "id": "O2a8GnvaaBNU"
      }
    },
    {
      "cell_type": "code",
      "source": [
        "evens = [1, 2, 3, 4]\n",
        "evens.remove(1)\n",
        "evens.remove(3)\n",
        "\n",
        "print(evens)"
      ],
      "metadata": {
        "colab": {
          "base_uri": "https://localhost:8080/"
        },
        "id": "YxAw3owyaYKN",
        "outputId": "86f7289d-bf38-4b6b-d0a6-d9975480946b"
      },
      "execution_count": null,
      "outputs": [
        {
          "output_type": "stream",
          "name": "stdout",
          "text": [
            "[2, 4]\n"
          ]
        }
      ]
    },
    {
      "cell_type": "markdown",
      "source": [
        "#### **Exercise #3:** Correct the code below so that the resulting list is: [1, 2, 3, 4, 5] and prints the updated list."
      ],
      "metadata": {
        "id": "XJejnPLNbF-d"
      }
    },
    {
      "cell_type": "code",
      "source": [
        "num_list = [1, 2, 3, 4]\n",
        "num_list[0] = 5\n",
        "\n",
        "print(num_list)"
      ],
      "metadata": {
        "id": "kMWeKqDhbF-e"
      },
      "execution_count": null,
      "outputs": []
    },
    {
      "cell_type": "markdown",
      "source": [
        "###### **Solution:**"
      ],
      "metadata": {
        "id": "ZS-DFwczbF-e"
      }
    },
    {
      "cell_type": "code",
      "source": [
        "num_list = [1, 2, 3, 4]\n",
        "num_list.append(5)\n",
        "\n",
        "print(num_list)"
      ],
      "metadata": {
        "id": "JKfCp0YybF-e"
      },
      "execution_count": null,
      "outputs": []
    },
    {
      "cell_type": "markdown",
      "source": [
        "# End of Notebook\n",
        "\n",
        "---\n",
        "© 2023 The Coding School, All rights reserved"
      ],
      "metadata": {
        "id": "akI58ejMuBd9"
      }
    }
  ]
}