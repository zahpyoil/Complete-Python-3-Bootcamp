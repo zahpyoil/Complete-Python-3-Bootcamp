{
  "nbformat": 4,
  "nbformat_minor": 0,
  "metadata": {
    "colab": {
      "provenance": [],
      "include_colab_link": true
    },
    "kernelspec": {
      "name": "python3",
      "display_name": "Python 3"
    },
    "language_info": {
      "name": "python"
    }
  },
  "cells": [
    {
      "cell_type": "markdown",
      "metadata": {
        "id": "view-in-github",
        "colab_type": "text"
      },
      "source": [
        "<a href=\"https://colab.research.google.com/github/zahpyoil/Complete-Python-3-Bootcamp/blob/master/TRAIN_AWS_P1_Lab_0_%5BSTUDENT%5D.ipynb\" target=\"_parent\"><img src=\"https://colab.research.google.com/assets/colab-badge.svg\" alt=\"Open In Colab\"/></a>"
      ]
    },
    {
      "cell_type": "markdown",
      "source": [
        "# **Lab 0: Introduction to Python and Google Colab**\n",
        "---\n",
        "Now that you have a [basic](https://docs.google.com/document/d/1eY8fYNByjdxW4pGMtRwOfaSOudFu9cMQn86uE1gAk1c/edit#) understanding of Python programming, let's apply these concepts to some lab work.\n"
      ],
      "metadata": {
        "id": "DsrKrYAFAwvC"
      }
    },
    {
      "cell_type": "markdown",
      "source": [
        "## **Part 1: The print function, Variables, and Arithmetic**\n",
        "---"
      ],
      "metadata": {
        "id": "VmfQ66LhVXIQ"
      }
    },
    {
      "cell_type": "markdown",
      "source": [
        "#### **Exercise #1:** Print out the phrase \"Hello, my name is ___\" with your name."
      ],
      "metadata": {
        "id": "mfMteYS3to5n"
      }
    },
    {
      "cell_type": "code",
      "source": [],
      "metadata": {
        "id": "DYqxOTOot0xX"
      },
      "execution_count": null,
      "outputs": []
    },
    {
      "cell_type": "markdown",
      "source": [
        "#### **Exercise #2:** Print out the result of adding 2 + 3.0."
      ],
      "metadata": {
        "id": "PmwF-E2OVn3c"
      }
    },
    {
      "cell_type": "code",
      "source": [],
      "metadata": {
        "id": "GBqF-Vt5Vn3d"
      },
      "execution_count": null,
      "outputs": []
    },
    {
      "cell_type": "markdown",
      "source": [
        "#### **Exercise #3:** Make a variable called `favorite_animal` and store the name of your favorite animal in it. Then print it out."
      ],
      "metadata": {
        "id": "6MqreT3HVoFf"
      }
    },
    {
      "cell_type": "code",
      "source": [],
      "metadata": {
        "id": "9Ty6lidkVoFg"
      },
      "execution_count": null,
      "outputs": []
    },
    {
      "cell_type": "markdown",
      "source": [
        "#### **Exercise #4:** Complete the code below so that it calculates and prints your age in days."
      ],
      "metadata": {
        "id": "74o-C_juVo0R"
      }
    },
    {
      "cell_type": "code",
      "source": [
        "my_age = #add age in years here\n",
        "days_in_year = 365\n",
        "\n",
        "age_in_days = #add calculation here\n",
        "print(age_in_days)"
      ],
      "metadata": {
        "id": "aM_VtiHPVo0S"
      },
      "execution_count": null,
      "outputs": []
    },
    {
      "cell_type": "markdown",
      "source": [
        "#### **Exercise #5:** Complete the code below so that it calculates and prints the sentence \"I am [age_in_decades] decades old\""
      ],
      "metadata": {
        "id": "0815zm1YVo5K"
      }
    },
    {
      "cell_type": "code",
      "source": [
        "my_age = #add age in years here\n",
        "years_in_decade = # complete this line\n",
        "\n",
        "age_in_decades = my_age / years_in_decade\n",
        "print(\"I am \" + #complete this line)"
      ],
      "metadata": {
        "id": "vwLGsLuTVo5L"
      },
      "execution_count": null,
      "outputs": []
    },
    {
      "cell_type": "markdown",
      "source": [
        "## **Part 2: Comparisons**\n",
        "---"
      ],
      "metadata": {
        "id": "583FEGKfWa8n"
      }
    },
    {
      "cell_type": "markdown",
      "source": [
        "#### **Exercise #1:** Print the result of testing if 3 is greater than 5."
      ],
      "metadata": {
        "id": "yo-iaP81Wa8w"
      }
    },
    {
      "cell_type": "code",
      "source": [],
      "metadata": {
        "id": "p1Gb3hMPWa8x"
      },
      "execution_count": null,
      "outputs": []
    },
    {
      "cell_type": "markdown",
      "source": [
        "#### **Exercise #2:** Change the values below to make the output True."
      ],
      "metadata": {
        "id": "3h-RLo3uWa8x"
      }
    },
    {
      "cell_type": "code",
      "source": [
        "print(14 != 14)"
      ],
      "metadata": {
        "id": "QP40_1HFWa8x"
      },
      "execution_count": null,
      "outputs": []
    },
    {
      "cell_type": "markdown",
      "source": [
        "#### **Exercise #3:** Write code to test if the two variables are equal to each other and print the result."
      ],
      "metadata": {
        "id": "6QAnB9tlWa8y"
      }
    },
    {
      "cell_type": "code",
      "source": [
        "x = \"hi world\"\n",
        "y = \"hello world\"\n",
        "\n",
        "#add code here"
      ],
      "metadata": {
        "id": "Azo2-aKTWa8y"
      },
      "execution_count": null,
      "outputs": []
    },
    {
      "cell_type": "markdown",
      "source": [
        "#### **Exercise #4:** Write code that tests if your baggage weight is less than the limit and prints the sentence, \"Your bag is under the limit: [result of comparison]\"."
      ],
      "metadata": {
        "id": "pzhQt4BRWa8y"
      }
    },
    {
      "cell_type": "code",
      "source": [
        "bag_weight = 12\n",
        "weight_limit = 12.5\n",
        "\n",
        "# add code here"
      ],
      "metadata": {
        "id": "r7J8kUg2Wa8y"
      },
      "execution_count": null,
      "outputs": []
    },
    {
      "cell_type": "markdown",
      "source": [
        "## **Part 3: Lists**\n",
        "---"
      ],
      "metadata": {
        "id": "5QsCBEiOWuha"
      }
    },
    {
      "cell_type": "markdown",
      "source": [
        "#### **Exercise #1:** Print the word \"Howdy!\" using the provided list."
      ],
      "metadata": {
        "id": "zVcrldoeWuhi"
      }
    },
    {
      "cell_type": "code",
      "source": [
        "phrases = [\"Hi\", \"Hello\", \"Howdy\", \"Hiya\"]"
      ],
      "metadata": {
        "id": "tGkmba-qWuhi"
      },
      "execution_count": null,
      "outputs": []
    },
    {
      "cell_type": "markdown",
      "source": [
        "#### **Exercise #2:** Complete the code below so that the following is printed:\n",
        "1\n",
        "\n",
        "0\n",
        "\n",
        "2"
      ],
      "metadata": {
        "id": "2h2id0QoWuhi"
      }
    },
    {
      "cell_type": "code",
      "source": [
        "my_list = [0, 3, 1, 2]"
      ],
      "metadata": {
        "id": "TV6RzhiMWuhi"
      },
      "execution_count": null,
      "outputs": []
    },
    {
      "cell_type": "markdown",
      "source": [
        "#### **Exercise #3:** Add the element 2.8 to this list using append and print the updated list."
      ],
      "metadata": {
        "id": "Kvc2vgKNWuhi"
      }
    },
    {
      "cell_type": "code",
      "source": [
        "my_list = [1.4]"
      ],
      "metadata": {
        "id": "CF7S_uv_Wuhi"
      },
      "execution_count": null,
      "outputs": []
    },
    {
      "cell_type": "markdown",
      "source": [
        "#### **Exercise #4:** Now, add the element 4.2 to this list  twice using append and print the updated list."
      ],
      "metadata": {
        "id": "GWtQ_GIEW41G"
      }
    },
    {
      "cell_type": "code",
      "source": [],
      "metadata": {
        "id": "S6sHCKNOW41Q"
      },
      "execution_count": null,
      "outputs": []
    },
    {
      "cell_type": "markdown",
      "source": [
        "#### **Exercise #5:** Remove 1.4 from this list and print the updated list."
      ],
      "metadata": {
        "id": "O2tmrUMqW5__"
      }
    },
    {
      "cell_type": "code",
      "source": [],
      "metadata": {
        "id": "Qu-469HzW6AA"
      },
      "execution_count": null,
      "outputs": []
    },
    {
      "cell_type": "markdown",
      "source": [
        "#### **Exercise #6:** Change the 0th element to be the string \"floats\" and print the list."
      ],
      "metadata": {
        "id": "_5u3q9wcW7Yi"
      }
    },
    {
      "cell_type": "code",
      "source": [],
      "metadata": {
        "id": "stoGICD1W7Yj"
      },
      "execution_count": null,
      "outputs": []
    },
    {
      "cell_type": "markdown",
      "source": [
        "## **Part 4: General Practice**\n",
        "---"
      ],
      "metadata": {
        "id": "ZmA9H58iXLj0"
      }
    },
    {
      "cell_type": "markdown",
      "source": [
        "#### **Exercise #1:** What value will be printed in the code below?\n",
        "\n",
        "```python\n",
        "num_keys = 2\n",
        "num_locks = 5\n",
        "\n",
        "has_enough_keys = num_keys >= num_locks\n",
        "print(\"I have enough keys: \" + str(has_enough_keys))\n",
        "\n",
        "```"
      ],
      "metadata": {
        "id": "dtKV2rFhZJo7"
      }
    },
    {
      "cell_type": "markdown",
      "source": [
        "#### **Exercise #2:** Complete the code below so that the list contains only even numbers and print the updated list."
      ],
      "metadata": {
        "id": "hHAEeDsNaBNH"
      }
    },
    {
      "cell_type": "code",
      "source": [
        "evens = [1, 2, 3, 4]\n"
      ],
      "metadata": {
        "id": "b2Xpu9LDaRQm"
      },
      "execution_count": null,
      "outputs": []
    },
    {
      "cell_type": "markdown",
      "source": [
        "#### **Exercise #3:** Correct the code below so that the resulting list is: [1, 2, 3, 4, 5] and prints the updated list."
      ],
      "metadata": {
        "id": "XJejnPLNbF-d"
      }
    },
    {
      "cell_type": "code",
      "source": [
        "num_list = [1, 2, 3, 4]\n",
        "num_list[0] = 5\n",
        "\n",
        "print(num_list)"
      ],
      "metadata": {
        "id": "kMWeKqDhbF-e"
      },
      "execution_count": null,
      "outputs": []
    },
    {
      "cell_type": "markdown",
      "source": [
        "# End of Notebook\n",
        "\n",
        "---\n",
        "© 2023 The Coding School, All rights reserved"
      ],
      "metadata": {
        "id": "akI58ejMuBd9"
      }
    }
  ]
}